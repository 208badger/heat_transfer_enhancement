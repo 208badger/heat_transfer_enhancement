version https://git-lfs.github.com/spec/v1
oid sha256:931a879c39242a91b211664873e08f3a3eac33ebce539de633f5b3e90a5ad4fc
size 459931
