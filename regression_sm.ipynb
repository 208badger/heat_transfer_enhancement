{
 "metadata": {
  "language_info": {
   "codemirror_mode": {
    "name": "ipython",
    "version": 3
   },
   "file_extension": ".py",
   "mimetype": "text/x-python",
   "name": "python",
   "nbconvert_exporter": "python",
   "pygments_lexer": "ipython3",
   "version": "3.8.6-final"
  },
  "orig_nbformat": 2,
  "kernelspec": {
   "name": "python3",
   "display_name": "Python 3.8.6 32-bit",
   "metadata": {
    "interpreter": {
     "hash": "669dd9d1846cd86e3338888bcadb5d6704d7de151ba452fec5923200b082f333"
    }
   }
  }
 },
 "nbformat": 4,
 "nbformat_minor": 2,
 "cells": [
  {
   "source": [
    "# Regression using a package called statsmodels\n",
    "\n",
    "Using this [article](https://towardsdatascience.com/simple-and-multiple-linear-regression-in-python-c928425168f9) as a shell. But trying to recreate the results from the `regression_research.ipynb` notebook."
   ],
   "cell_type": "markdown",
   "metadata": {}
  },
  {
   "cell_type": "code",
   "execution_count": 2,
   "metadata": {},
   "outputs": [],
   "source": [
    "import statsmodels.api as sm\n",
    "import numpy as np \n",
    "import pandas as pd \n",
    "import sklearn.metrics as skm"
   ]
  },
  {
   "cell_type": "code",
   "execution_count": 3,
   "metadata": {},
   "outputs": [
    {
     "output_type": "execute_result",
     "data": {
      "text/plain": [
       "   MODEL_YEAR   MAKE    MODEL VEHICLE_CLASS  ENGINE_SIZE  CYLINDERS  \\\n",
       "0        2000  ACURA    1.6EL       COMPACT          1.6          4   \n",
       "1        2000  ACURA    1.6EL       COMPACT          1.6          4   \n",
       "2        2000  ACURA    3.2TL      MID-SIZE          3.2          6   \n",
       "3        2000  ACURA    3.5RL      MID-SIZE          3.5          6   \n",
       "4        2000  ACURA  INTEGRA    SUBCOMPACT          1.8          4   \n",
       "\n",
       "  TRANSMISSION FUEL_TYPE  FUEL_CONS_CITY  HWY_L100km  COMB_L100km  COMB_MPG  \\\n",
       "0           A4         X             9.2         6.7          8.1        35   \n",
       "1           M5         X             8.5         6.5          7.6        37   \n",
       "2          AS5         Z            12.2         7.4         10.0        28   \n",
       "3           A4         Z            13.4         9.2         11.5        25   \n",
       "4           A4         X            10.0         7.0          8.6        33   \n",
       "\n",
       "   CO2_EMISSIONS  \n",
       "0            186  \n",
       "1            175  \n",
       "2            230  \n",
       "3            264  \n",
       "4            198  "
      ],
      "text/html": "<div>\n<style scoped>\n    .dataframe tbody tr th:only-of-type {\n        vertical-align: middle;\n    }\n\n    .dataframe tbody tr th {\n        vertical-align: top;\n    }\n\n    .dataframe thead th {\n        text-align: right;\n    }\n</style>\n<table border=\"1\" class=\"dataframe\">\n  <thead>\n    <tr style=\"text-align: right;\">\n      <th></th>\n      <th>MODEL_YEAR</th>\n      <th>MAKE</th>\n      <th>MODEL</th>\n      <th>VEHICLE_CLASS</th>\n      <th>ENGINE_SIZE</th>\n      <th>CYLINDERS</th>\n      <th>TRANSMISSION</th>\n      <th>FUEL_TYPE</th>\n      <th>FUEL_CONS_CITY</th>\n      <th>HWY_L100km</th>\n      <th>COMB_L100km</th>\n      <th>COMB_MPG</th>\n      <th>CO2_EMISSIONS</th>\n    </tr>\n  </thead>\n  <tbody>\n    <tr>\n      <th>0</th>\n      <td>2000</td>\n      <td>ACURA</td>\n      <td>1.6EL</td>\n      <td>COMPACT</td>\n      <td>1.6</td>\n      <td>4</td>\n      <td>A4</td>\n      <td>X</td>\n      <td>9.2</td>\n      <td>6.7</td>\n      <td>8.1</td>\n      <td>35</td>\n      <td>186</td>\n    </tr>\n    <tr>\n      <th>1</th>\n      <td>2000</td>\n      <td>ACURA</td>\n      <td>1.6EL</td>\n      <td>COMPACT</td>\n      <td>1.6</td>\n      <td>4</td>\n      <td>M5</td>\n      <td>X</td>\n      <td>8.5</td>\n      <td>6.5</td>\n      <td>7.6</td>\n      <td>37</td>\n      <td>175</td>\n    </tr>\n    <tr>\n      <th>2</th>\n      <td>2000</td>\n      <td>ACURA</td>\n      <td>3.2TL</td>\n      <td>MID-SIZE</td>\n      <td>3.2</td>\n      <td>6</td>\n      <td>AS5</td>\n      <td>Z</td>\n      <td>12.2</td>\n      <td>7.4</td>\n      <td>10.0</td>\n      <td>28</td>\n      <td>230</td>\n    </tr>\n    <tr>\n      <th>3</th>\n      <td>2000</td>\n      <td>ACURA</td>\n      <td>3.5RL</td>\n      <td>MID-SIZE</td>\n      <td>3.5</td>\n      <td>6</td>\n      <td>A4</td>\n      <td>Z</td>\n      <td>13.4</td>\n      <td>9.2</td>\n      <td>11.5</td>\n      <td>25</td>\n      <td>264</td>\n    </tr>\n    <tr>\n      <th>4</th>\n      <td>2000</td>\n      <td>ACURA</td>\n      <td>INTEGRA</td>\n      <td>SUBCOMPACT</td>\n      <td>1.8</td>\n      <td>4</td>\n      <td>A4</td>\n      <td>X</td>\n      <td>10.0</td>\n      <td>7.0</td>\n      <td>8.6</td>\n      <td>33</td>\n      <td>198</td>\n    </tr>\n  </tbody>\n</table>\n</div>"
     },
     "metadata": {},
     "execution_count": 3
    }
   ],
   "source": [
    "data = \"https://raw.githubusercontent.com/Blackman9t/Machine_Learning/master/Original_2000_2014_Fuel_Consumption_Ratings.csv\"\n",
    "missing_data = [\"n/a\",\"na\",\"--\",\"?\",\"non\",\"Non\",\"None\"]\n",
    "\n",
    "df = pd.read_csv(data, na_values=missing_data)\n",
    "\n",
    "df.rename(columns={'FUEL_CONSUMPTION_CITY(L/100km)':'FUEL_CONS_CITY', \n",
    "                        'ENGINE_SIZE(L)':'ENGINE_SIZE',\n",
    "                       'HWY_(L/100km)':'HWY_L100km',\n",
    "                       'COMB_(L/100km)':'COMB_L100km',\n",
    "                       'COMB_(mpg)':'COMB_MPG',\n",
    "                       'CO2_EMISSIONS(g/km)':'CO2_EMISSIONS'},\n",
    "                       inplace=True)\n",
    "\n",
    "df.head()"
   ]
  },
  {
   "cell_type": "code",
   "execution_count": 4,
   "metadata": {},
   "outputs": [
    {
     "output_type": "execute_result",
     "data": {
      "text/plain": [
       "   CO2_EMISSIONS\n",
       "0            186\n",
       "1            175\n",
       "2            230\n",
       "3            264\n",
       "4            198"
      ],
      "text/html": "<div>\n<style scoped>\n    .dataframe tbody tr th:only-of-type {\n        vertical-align: middle;\n    }\n\n    .dataframe tbody tr th {\n        vertical-align: top;\n    }\n\n    .dataframe thead th {\n        text-align: right;\n    }\n</style>\n<table border=\"1\" class=\"dataframe\">\n  <thead>\n    <tr style=\"text-align: right;\">\n      <th></th>\n      <th>CO2_EMISSIONS</th>\n    </tr>\n  </thead>\n  <tbody>\n    <tr>\n      <th>0</th>\n      <td>186</td>\n    </tr>\n    <tr>\n      <th>1</th>\n      <td>175</td>\n    </tr>\n    <tr>\n      <th>2</th>\n      <td>230</td>\n    </tr>\n    <tr>\n      <th>3</th>\n      <td>264</td>\n    </tr>\n    <tr>\n      <th>4</th>\n      <td>198</td>\n    </tr>\n  </tbody>\n</table>\n</div>"
     },
     "metadata": {},
     "execution_count": 4
    }
   ],
   "source": [
    "# Define the target results.\n",
    "target = pd.DataFrame(df.CO2_EMISSIONS)\n",
    "target.head()"
   ]
  },
  {
   "source": [
    "For some reason the rest of the notebook has disappeared. The results obtained were the same as the step by step notebook so that can be used as baseline for comparison. "
   ],
   "cell_type": "markdown",
   "metadata": {}
  },
  {
   "cell_type": "code",
   "execution_count": 5,
   "metadata": {},
   "outputs": [
    {
     "output_type": "execute_result",
     "data": {
      "text/plain": [
       "<class 'statsmodels.iolib.summary.Summary'>\n",
       "\"\"\"\n",
       "                            OLS Regression Results                            \n",
       "==============================================================================\n",
       "Dep. Variable:          CO2_EMISSIONS   R-squared:                       0.859\n",
       "Model:                            OLS   Adj. R-squared:                  0.859\n",
       "Method:                 Least Squares   F-statistic:                 2.908e+04\n",
       "Date:                Thu, 10 Dec 2020   Prob (F-statistic):               0.00\n",
       "Time:                        16:17:04   Log-Likelihood:                -64830.\n",
       "No. Observations:               14343   AIC:                         1.297e+05\n",
       "Df Residuals:                   14339   BIC:                         1.297e+05\n",
       "Df Model:                           3                                         \n",
       "Covariance Type:            nonrobust                                         \n",
       "===============================================================================\n",
       "                  coef    std err          t      P>|t|      [0.025      0.975]\n",
       "-------------------------------------------------------------------------------\n",
       "const         322.6685      1.828    176.557      0.000     319.086     326.251\n",
       "ENGINE_SIZE     7.9042      0.363     21.790      0.000       7.193       8.615\n",
       "CYLINDERS       5.9362      0.247     24.074      0.000       5.453       6.420\n",
       "COMB_MPG       -5.0140      0.039   -128.876      0.000      -5.090      -4.938\n",
       "==============================================================================\n",
       "Omnibus:                     1915.873   Durbin-Watson:                   1.150\n",
       "Prob(Omnibus):                  0.000   Jarque-Bera (JB):             9929.254\n",
       "Skew:                           0.542   Prob(JB):                         0.00\n",
       "Kurtosis:                       6.929   Cond. No.                         287.\n",
       "==============================================================================\n",
       "\n",
       "Notes:\n",
       "[1] Standard Errors assume that the covariance matrix of the errors is correctly specified.\n",
       "\"\"\""
      ],
      "text/html": "<table class=\"simpletable\">\n<caption>OLS Regression Results</caption>\n<tr>\n  <th>Dep. Variable:</th>      <td>CO2_EMISSIONS</td>  <th>  R-squared:         </th> <td>   0.859</td> \n</tr>\n<tr>\n  <th>Model:</th>                   <td>OLS</td>       <th>  Adj. R-squared:    </th> <td>   0.859</td> \n</tr>\n<tr>\n  <th>Method:</th>             <td>Least Squares</td>  <th>  F-statistic:       </th> <td>2.908e+04</td>\n</tr>\n<tr>\n  <th>Date:</th>             <td>Thu, 10 Dec 2020</td> <th>  Prob (F-statistic):</th>  <td>  0.00</td>  \n</tr>\n<tr>\n  <th>Time:</th>                 <td>16:17:04</td>     <th>  Log-Likelihood:    </th> <td> -64830.</td> \n</tr>\n<tr>\n  <th>No. Observations:</th>      <td> 14343</td>      <th>  AIC:               </th> <td>1.297e+05</td>\n</tr>\n<tr>\n  <th>Df Residuals:</th>          <td> 14339</td>      <th>  BIC:               </th> <td>1.297e+05</td>\n</tr>\n<tr>\n  <th>Df Model:</th>              <td>     3</td>      <th>                     </th>     <td> </td>    \n</tr>\n<tr>\n  <th>Covariance Type:</th>      <td>nonrobust</td>    <th>                     </th>     <td> </td>    \n</tr>\n</table>\n<table class=\"simpletable\">\n<tr>\n       <td></td>          <th>coef</th>     <th>std err</th>      <th>t</th>      <th>P>|t|</th>  <th>[0.025</th>    <th>0.975]</th>  \n</tr>\n<tr>\n  <th>const</th>       <td>  322.6685</td> <td>    1.828</td> <td>  176.557</td> <td> 0.000</td> <td>  319.086</td> <td>  326.251</td>\n</tr>\n<tr>\n  <th>ENGINE_SIZE</th> <td>    7.9042</td> <td>    0.363</td> <td>   21.790</td> <td> 0.000</td> <td>    7.193</td> <td>    8.615</td>\n</tr>\n<tr>\n  <th>CYLINDERS</th>   <td>    5.9362</td> <td>    0.247</td> <td>   24.074</td> <td> 0.000</td> <td>    5.453</td> <td>    6.420</td>\n</tr>\n<tr>\n  <th>COMB_MPG</th>    <td>   -5.0140</td> <td>    0.039</td> <td> -128.876</td> <td> 0.000</td> <td>   -5.090</td> <td>   -4.938</td>\n</tr>\n</table>\n<table class=\"simpletable\">\n<tr>\n  <th>Omnibus:</th>       <td>1915.873</td> <th>  Durbin-Watson:     </th> <td>   1.150</td>\n</tr>\n<tr>\n  <th>Prob(Omnibus):</th>  <td> 0.000</td>  <th>  Jarque-Bera (JB):  </th> <td>9929.254</td>\n</tr>\n<tr>\n  <th>Skew:</th>           <td> 0.542</td>  <th>  Prob(JB):          </th> <td>    0.00</td>\n</tr>\n<tr>\n  <th>Kurtosis:</th>       <td> 6.929</td>  <th>  Cond. No.          </th> <td>    287.</td>\n</tr>\n</table><br/><br/>Notes:<br/>[1] Standard Errors assume that the covariance matrix of the errors is correctly specified."
     },
     "metadata": {},
     "execution_count": 5
    }
   ],
   "source": [
    "# Drop the variables that have no correlation or are colinear. \n",
    "X = df[['ENGINE_SIZE','CYLINDERS','COMB_MPG']]\n",
    "X = sm.add_constant(X)\n",
    "y = target[\"CO2_EMISSIONS\"]\n",
    "\n",
    "model = sm.OLS(y, X).fit()\n",
    "predictions = model.predict(X) # make the predictions by the model\n",
    "\n",
    "# Print out the statistics\n",
    "model.summary()"
   ]
  },
  {
   "cell_type": "code",
   "execution_count": 6,
   "metadata": {},
   "outputs": [
    {
     "output_type": "execute_result",
     "data": {
      "text/plain": [
       "14.94697825421709"
      ]
     },
     "metadata": {},
     "execution_count": 6
    }
   ],
   "source": [
    "mae = skm.mean_absolute_error(target, predictions)\n",
    "mae"
   ]
  },
  {
   "cell_type": "code",
   "execution_count": 7,
   "metadata": {},
   "outputs": [
    {
     "output_type": "execute_result",
     "data": {
      "text/plain": [
       "493.75715761878746"
      ]
     },
     "metadata": {},
     "execution_count": 7
    }
   ],
   "source": [
    "mse = skm.mean_squared_error(target, predictions)\n",
    "mse"
   ]
  },
  {
   "cell_type": "code",
   "execution_count": null,
   "metadata": {},
   "outputs": [],
   "source": []
  }
 ]
}