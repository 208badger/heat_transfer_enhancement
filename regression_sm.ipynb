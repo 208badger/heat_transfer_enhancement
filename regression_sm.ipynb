{
 "metadata": {
  "language_info": {
   "codemirror_mode": {
    "name": "ipython",
    "version": 3
   },
   "file_extension": ".py",
   "mimetype": "text/x-python",
   "name": "python",
   "nbconvert_exporter": "python",
   "pygments_lexer": "ipython3",
   "version": "3.8.6-final"
  },
  "orig_nbformat": 2,
  "kernelspec": {
   "name": "python3",
   "display_name": "Python 3.8.6 32-bit",
   "metadata": {
    "interpreter": {
     "hash": "669dd9d1846cd86e3338888bcadb5d6704d7de151ba452fec5923200b082f333"
    }
   }
  }
 },
 "nbformat": 4,
 "nbformat_minor": 2,
 "cells": [
  {
   "source": [
    "# Regression using a package called statsmodels\n",
    "\n",
    "Using this [article](https://towardsdatascience.com/simple-and-multiple-linear-regression-in-python-c928425168f9) as a shell. But trying to recreate the results from the `regression_research.ipynb` notebook."
   ],
   "cell_type": "markdown",
   "metadata": {}
  },
  {
   "cell_type": "code",
   "execution_count": 7,
   "metadata": {},
   "outputs": [],
   "source": [
    "import statsmodels.api as sm\n",
    "import numpy as np \n",
    "import pandas as pd \n"
   ]
  },
  {
   "cell_type": "code",
   "execution_count": 4,
   "metadata": {},
   "outputs": [
    {
     "output_type": "execute_result",
     "data": {
      "text/plain": [
       "   MODEL_YEAR   MAKE    MODEL VEHICLE_CLASS  ENGINE_SIZE  CYLINDERS  \\\n",
       "0        2000  ACURA    1.6EL       COMPACT          1.6          4   \n",
       "1        2000  ACURA    1.6EL       COMPACT          1.6          4   \n",
       "2        2000  ACURA    3.2TL      MID-SIZE          3.2          6   \n",
       "3        2000  ACURA    3.5RL      MID-SIZE          3.5          6   \n",
       "4        2000  ACURA  INTEGRA    SUBCOMPACT          1.8          4   \n",
       "\n",
       "  TRANSMISSION FUEL_TYPE  FUEL_CONS_CITY  HWY_L100km  COMB_L100km  COMB_MPG  \\\n",
       "0           A4         X             9.2         6.7          8.1        35   \n",
       "1           M5         X             8.5         6.5          7.6        37   \n",
       "2          AS5         Z            12.2         7.4         10.0        28   \n",
       "3           A4         Z            13.4         9.2         11.5        25   \n",
       "4           A4         X            10.0         7.0          8.6        33   \n",
       "\n",
       "   CO2_EMISSIONS  \n",
       "0            186  \n",
       "1            175  \n",
       "2            230  \n",
       "3            264  \n",
       "4            198  "
      ],
      "text/html": "<div>\n<style scoped>\n    .dataframe tbody tr th:only-of-type {\n        vertical-align: middle;\n    }\n\n    .dataframe tbody tr th {\n        vertical-align: top;\n    }\n\n    .dataframe thead th {\n        text-align: right;\n    }\n</style>\n<table border=\"1\" class=\"dataframe\">\n  <thead>\n    <tr style=\"text-align: right;\">\n      <th></th>\n      <th>MODEL_YEAR</th>\n      <th>MAKE</th>\n      <th>MODEL</th>\n      <th>VEHICLE_CLASS</th>\n      <th>ENGINE_SIZE</th>\n      <th>CYLINDERS</th>\n      <th>TRANSMISSION</th>\n      <th>FUEL_TYPE</th>\n      <th>FUEL_CONS_CITY</th>\n      <th>HWY_L100km</th>\n      <th>COMB_L100km</th>\n      <th>COMB_MPG</th>\n      <th>CO2_EMISSIONS</th>\n    </tr>\n  </thead>\n  <tbody>\n    <tr>\n      <th>0</th>\n      <td>2000</td>\n      <td>ACURA</td>\n      <td>1.6EL</td>\n      <td>COMPACT</td>\n      <td>1.6</td>\n      <td>4</td>\n      <td>A4</td>\n      <td>X</td>\n      <td>9.2</td>\n      <td>6.7</td>\n      <td>8.1</td>\n      <td>35</td>\n      <td>186</td>\n    </tr>\n    <tr>\n      <th>1</th>\n      <td>2000</td>\n      <td>ACURA</td>\n      <td>1.6EL</td>\n      <td>COMPACT</td>\n      <td>1.6</td>\n      <td>4</td>\n      <td>M5</td>\n      <td>X</td>\n      <td>8.5</td>\n      <td>6.5</td>\n      <td>7.6</td>\n      <td>37</td>\n      <td>175</td>\n    </tr>\n    <tr>\n      <th>2</th>\n      <td>2000</td>\n      <td>ACURA</td>\n      <td>3.2TL</td>\n      <td>MID-SIZE</td>\n      <td>3.2</td>\n      <td>6</td>\n      <td>AS5</td>\n      <td>Z</td>\n      <td>12.2</td>\n      <td>7.4</td>\n      <td>10.0</td>\n      <td>28</td>\n      <td>230</td>\n    </tr>\n    <tr>\n      <th>3</th>\n      <td>2000</td>\n      <td>ACURA</td>\n      <td>3.5RL</td>\n      <td>MID-SIZE</td>\n      <td>3.5</td>\n      <td>6</td>\n      <td>A4</td>\n      <td>Z</td>\n      <td>13.4</td>\n      <td>9.2</td>\n      <td>11.5</td>\n      <td>25</td>\n      <td>264</td>\n    </tr>\n    <tr>\n      <th>4</th>\n      <td>2000</td>\n      <td>ACURA</td>\n      <td>INTEGRA</td>\n      <td>SUBCOMPACT</td>\n      <td>1.8</td>\n      <td>4</td>\n      <td>A4</td>\n      <td>X</td>\n      <td>10.0</td>\n      <td>7.0</td>\n      <td>8.6</td>\n      <td>33</td>\n      <td>198</td>\n    </tr>\n  </tbody>\n</table>\n</div>"
     },
     "metadata": {},
     "execution_count": 4
    }
   ],
   "source": [
    "data = \"https://raw.githubusercontent.com/Blackman9t/Machine_Learning/master/Original_2000_2014_Fuel_Consumption_Ratings.csv\"\n",
    "missing_data = [\"n/a\",\"na\",\"--\",\"?\",\"non\",\"Non\",\"None\"]\n",
    "\n",
    "df = pd.read_csv(data, na_values=missing_data)\n",
    "\n",
    "df.rename(columns={'FUEL_CONSUMPTION_CITY(L/100km)':'FUEL_CONS_CITY', \n",
    "                        'ENGINE_SIZE(L)':'ENGINE_SIZE',\n",
    "                       'HWY_(L/100km)':'HWY_L100km',\n",
    "                       'COMB_(L/100km)':'COMB_L100km',\n",
    "                       'COMB_(mpg)':'COMB_MPG',\n",
    "                       'CO2_EMISSIONS(g/km)':'CO2_EMISSIONS'},\n",
    "                       inplace=True)\n",
    "\n",
    "df.head()"
   ]
  },
  {
   "cell_type": "code",
   "execution_count": 6,
   "metadata": {},
   "outputs": [
    {
     "output_type": "execute_result",
     "data": {
      "text/plain": [
       "   CO2_EMISSIONS\n",
       "0            186\n",
       "1            175\n",
       "2            230\n",
       "3            264\n",
       "4            198"
      ],
      "text/html": "<div>\n<style scoped>\n    .dataframe tbody tr th:only-of-type {\n        vertical-align: middle;\n    }\n\n    .dataframe tbody tr th {\n        vertical-align: top;\n    }\n\n    .dataframe thead th {\n        text-align: right;\n    }\n</style>\n<table border=\"1\" class=\"dataframe\">\n  <thead>\n    <tr style=\"text-align: right;\">\n      <th></th>\n      <th>CO2_EMISSIONS</th>\n    </tr>\n  </thead>\n  <tbody>\n    <tr>\n      <th>0</th>\n      <td>186</td>\n    </tr>\n    <tr>\n      <th>1</th>\n      <td>175</td>\n    </tr>\n    <tr>\n      <th>2</th>\n      <td>230</td>\n    </tr>\n    <tr>\n      <th>3</th>\n      <td>264</td>\n    </tr>\n    <tr>\n      <th>4</th>\n      <td>198</td>\n    </tr>\n  </tbody>\n</table>\n</div>"
     },
     "metadata": {},
     "execution_count": 6
    }
   ],
   "source": [
    "# Define the target results.\n",
    "target = pd.DataFrame(df.CO2_EMISSIONS)\n",
    "target.head()"
   ]
  },
  {
   "cell_type": "code",
   "execution_count": null,
   "metadata": {},
   "outputs": [],
   "source": []
  }
 ]
}