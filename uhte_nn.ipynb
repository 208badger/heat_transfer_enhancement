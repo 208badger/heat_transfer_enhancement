version https://git-lfs.github.com/spec/v1
oid sha256:1e122df370bb535da904098127c37345637ca9c406487780ff1a807cdf08004f
size 138064
