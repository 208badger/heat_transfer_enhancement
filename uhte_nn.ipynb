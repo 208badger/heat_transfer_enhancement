version https://git-lfs.github.com/spec/v1
oid sha256:47cd3943c973ea08813400c988f02a6f9abc423e3a1113be1b9569f4ab9d9f84
size 149609
