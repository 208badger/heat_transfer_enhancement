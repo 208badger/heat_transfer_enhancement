version https://git-lfs.github.com/spec/v1
oid sha256:0d6063bcb3b2475a3a4dfbe69c996685dc36ac92ff0b69e0a3a345cb04a66125
size 463504
