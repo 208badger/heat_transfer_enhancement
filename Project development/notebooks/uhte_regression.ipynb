version https://git-lfs.github.com/spec/v1
oid sha256:d140016a5c3c1285e3437ee2b827c6237a1ec067e7f8066445c2a7e79787d75a
size 102831
