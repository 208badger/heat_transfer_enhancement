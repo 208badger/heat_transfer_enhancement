version https://git-lfs.github.com/spec/v1
oid sha256:5230370c150af7cfc64e39f381d65d61979d3b2f095d027cc8b0f78a08cc3d0a
size 352440
