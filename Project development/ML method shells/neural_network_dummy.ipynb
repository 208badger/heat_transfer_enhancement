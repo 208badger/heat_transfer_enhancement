version https://git-lfs.github.com/spec/v1
oid sha256:e4092c889bc34d91184b2639b4345fe2140d72ae746d34d2bb50443258ec5cbb
size 19232746
