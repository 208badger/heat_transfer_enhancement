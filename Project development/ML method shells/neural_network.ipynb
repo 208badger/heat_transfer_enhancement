version https://git-lfs.github.com/spec/v1
oid sha256:14a9521afe239c7f0563074249f897b24cad27cd83838a3881118a33578e2dca
size 4007
