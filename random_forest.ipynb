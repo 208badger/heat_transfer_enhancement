{
 "metadata": {
  "language_info": {
   "codemirror_mode": {
    "name": "ipython",
    "version": 3
   },
   "file_extension": ".py",
   "mimetype": "text/x-python",
   "name": "python",
   "nbconvert_exporter": "python",
   "pygments_lexer": "ipython3",
   "version": "3.8.6-final"
  },
  "orig_nbformat": 2,
  "kernelspec": {
   "name": "python3",
   "display_name": "Python 3.8.6 32-bit",
   "metadata": {
    "interpreter": {
     "hash": "669dd9d1846cd86e3338888bcadb5d6704d7de151ba452fec5923200b082f333"
    }
   }
  }
 },
 "nbformat": 4,
 "nbformat_minor": 2,
 "cells": [
  {
   "source": [
    "# Random forest model \n",
    "\n",
    "This is a slightly more sophisticated model than linear regression. But I will try to implement it on the same data as the LR model. \n",
    "\n",
    "Code based on [this](https://towardsdatascience.com/random-forest-in-python-24d0893d51c0) article."
   ],
   "cell_type": "markdown",
   "metadata": {}
  },
  {
   "cell_type": "code",
   "execution_count": 2,
   "metadata": {},
   "outputs": [],
   "source": [
    "# Firstly import the modules\n",
    "import numpy as np \n",
    "import pandas as pd \n",
    "from sklearn.model_selection import train_test_split\n",
    "import sklearn.metrics as skm"
   ]
  },
  {
   "cell_type": "code",
   "execution_count": 3,
   "metadata": {},
   "outputs": [
    {
     "output_type": "execute_result",
     "data": {
      "text/plain": [
       "   MODEL_YEAR   MAKE    MODEL VEHICLE_CLASS  ENGINE_SIZE  CYLINDERS  \\\n",
       "0        2000  ACURA    1.6EL       COMPACT          1.6          4   \n",
       "1        2000  ACURA    1.6EL       COMPACT          1.6          4   \n",
       "2        2000  ACURA    3.2TL      MID-SIZE          3.2          6   \n",
       "3        2000  ACURA    3.5RL      MID-SIZE          3.5          6   \n",
       "4        2000  ACURA  INTEGRA    SUBCOMPACT          1.8          4   \n",
       "\n",
       "  TRANSMISSION FUEL_TYPE  FUEL_CONS_CITY  HWY_L100km  COMB_L100km  COMB_MPG  \\\n",
       "0           A4         X             9.2         6.7          8.1        35   \n",
       "1           M5         X             8.5         6.5          7.6        37   \n",
       "2          AS5         Z            12.2         7.4         10.0        28   \n",
       "3           A4         Z            13.4         9.2         11.5        25   \n",
       "4           A4         X            10.0         7.0          8.6        33   \n",
       "\n",
       "   CO2_EMISSIONS  \n",
       "0            186  \n",
       "1            175  \n",
       "2            230  \n",
       "3            264  \n",
       "4            198  "
      ],
      "text/html": "<div>\n<style scoped>\n    .dataframe tbody tr th:only-of-type {\n        vertical-align: middle;\n    }\n\n    .dataframe tbody tr th {\n        vertical-align: top;\n    }\n\n    .dataframe thead th {\n        text-align: right;\n    }\n</style>\n<table border=\"1\" class=\"dataframe\">\n  <thead>\n    <tr style=\"text-align: right;\">\n      <th></th>\n      <th>MODEL_YEAR</th>\n      <th>MAKE</th>\n      <th>MODEL</th>\n      <th>VEHICLE_CLASS</th>\n      <th>ENGINE_SIZE</th>\n      <th>CYLINDERS</th>\n      <th>TRANSMISSION</th>\n      <th>FUEL_TYPE</th>\n      <th>FUEL_CONS_CITY</th>\n      <th>HWY_L100km</th>\n      <th>COMB_L100km</th>\n      <th>COMB_MPG</th>\n      <th>CO2_EMISSIONS</th>\n    </tr>\n  </thead>\n  <tbody>\n    <tr>\n      <th>0</th>\n      <td>2000</td>\n      <td>ACURA</td>\n      <td>1.6EL</td>\n      <td>COMPACT</td>\n      <td>1.6</td>\n      <td>4</td>\n      <td>A4</td>\n      <td>X</td>\n      <td>9.2</td>\n      <td>6.7</td>\n      <td>8.1</td>\n      <td>35</td>\n      <td>186</td>\n    </tr>\n    <tr>\n      <th>1</th>\n      <td>2000</td>\n      <td>ACURA</td>\n      <td>1.6EL</td>\n      <td>COMPACT</td>\n      <td>1.6</td>\n      <td>4</td>\n      <td>M5</td>\n      <td>X</td>\n      <td>8.5</td>\n      <td>6.5</td>\n      <td>7.6</td>\n      <td>37</td>\n      <td>175</td>\n    </tr>\n    <tr>\n      <th>2</th>\n      <td>2000</td>\n      <td>ACURA</td>\n      <td>3.2TL</td>\n      <td>MID-SIZE</td>\n      <td>3.2</td>\n      <td>6</td>\n      <td>AS5</td>\n      <td>Z</td>\n      <td>12.2</td>\n      <td>7.4</td>\n      <td>10.0</td>\n      <td>28</td>\n      <td>230</td>\n    </tr>\n    <tr>\n      <th>3</th>\n      <td>2000</td>\n      <td>ACURA</td>\n      <td>3.5RL</td>\n      <td>MID-SIZE</td>\n      <td>3.5</td>\n      <td>6</td>\n      <td>A4</td>\n      <td>Z</td>\n      <td>13.4</td>\n      <td>9.2</td>\n      <td>11.5</td>\n      <td>25</td>\n      <td>264</td>\n    </tr>\n    <tr>\n      <th>4</th>\n      <td>2000</td>\n      <td>ACURA</td>\n      <td>INTEGRA</td>\n      <td>SUBCOMPACT</td>\n      <td>1.8</td>\n      <td>4</td>\n      <td>A4</td>\n      <td>X</td>\n      <td>10.0</td>\n      <td>7.0</td>\n      <td>8.6</td>\n      <td>33</td>\n      <td>198</td>\n    </tr>\n  </tbody>\n</table>\n</div>"
     },
     "metadata": {},
     "execution_count": 3
    }
   ],
   "source": [
    "# Import the same data as before\n",
    "data = \"https://raw.githubusercontent.com/Blackman9t/Machine_Learning/master/Original_2000_2014_Fuel_Consumption_Ratings.csv\"\n",
    "missing_data = [\"n/a\",\"na\",\"--\",\"?\",\"non\",\"Non\",\"None\"]\n",
    "\n",
    "df = pd.read_csv(data, na_values=missing_data)\n",
    "\n",
    "df.rename(columns={'FUEL_CONSUMPTION_CITY(L/100km)':'FUEL_CONS_CITY', \n",
    "                        'ENGINE_SIZE(L)':'ENGINE_SIZE',\n",
    "                       'HWY_(L/100km)':'HWY_L100km',\n",
    "                       'COMB_(L/100km)':'COMB_L100km',\n",
    "                       'COMB_(mpg)':'COMB_MPG',\n",
    "                       'CO2_EMISSIONS(g/km)':'CO2_EMISSIONS'},\n",
    "                       inplace=True)\n",
    "target = df[\"CO2_EMISSIONS\"]\n",
    "df.head()"
   ]
  },
  {
   "cell_type": "code",
   "execution_count": 4,
   "metadata": {},
   "outputs": [
    {
     "output_type": "execute_result",
     "data": {
      "text/plain": [
       "0    186\n",
       "1    175\n",
       "2    230\n",
       "Name: CO2_EMISSIONS, dtype: int64"
      ]
     },
     "metadata": {},
     "execution_count": 4
    }
   ],
   "source": [
    "# Drop the columns that aren't strongly correlated with the target. We know which are highly correlated and which are colinear from previous work so we can drop those. \n",
    "\n",
    "df = df[['ENGINE_SIZE','CYLINDERS','FUEL_CONS_CITY','COMB_MPG', 'HWY_L100km', 'COMB_L100km']]\n",
    "df = df[['ENGINE_SIZE','CYLINDERS','COMB_MPG']]\n",
    "\n",
    "# check the target hasn't changed\n",
    "target.head(3)"
   ]
  },
  {
   "cell_type": "code",
   "execution_count": 5,
   "metadata": {},
   "outputs": [
    {
     "output_type": "execute_result",
     "data": {
      "text/plain": [
       "   ENGINE_SIZE  CYLINDERS  COMB_MPG\n",
       "0          1.6          4        35\n",
       "1          1.6          4        37\n",
       "2          3.2          6        28\n",
       "3          3.5          6        25\n",
       "4          1.8          4        33"
      ],
      "text/html": "<div>\n<style scoped>\n    .dataframe tbody tr th:only-of-type {\n        vertical-align: middle;\n    }\n\n    .dataframe tbody tr th {\n        vertical-align: top;\n    }\n\n    .dataframe thead th {\n        text-align: right;\n    }\n</style>\n<table border=\"1\" class=\"dataframe\">\n  <thead>\n    <tr style=\"text-align: right;\">\n      <th></th>\n      <th>ENGINE_SIZE</th>\n      <th>CYLINDERS</th>\n      <th>COMB_MPG</th>\n    </tr>\n  </thead>\n  <tbody>\n    <tr>\n      <th>0</th>\n      <td>1.6</td>\n      <td>4</td>\n      <td>35</td>\n    </tr>\n    <tr>\n      <th>1</th>\n      <td>1.6</td>\n      <td>4</td>\n      <td>37</td>\n    </tr>\n    <tr>\n      <th>2</th>\n      <td>3.2</td>\n      <td>6</td>\n      <td>28</td>\n    </tr>\n    <tr>\n      <th>3</th>\n      <td>3.5</td>\n      <td>6</td>\n      <td>25</td>\n    </tr>\n    <tr>\n      <th>4</th>\n      <td>1.8</td>\n      <td>4</td>\n      <td>33</td>\n    </tr>\n  </tbody>\n</table>\n</div>"
     },
     "metadata": {},
     "execution_count": 5
    }
   ],
   "source": [
    "features = df \n",
    "features.describe()\n",
    "df.head()"
   ]
  },
  {
   "source": [
    "#### One-hot encoding\n",
    "This takes the variables that are non-numerical and converts them into numbers to feed into a model.\n",
    "\n",
    "For this model the one hot encoding is not necessary because there are only numerical variables"
   ],
   "cell_type": "markdown",
   "metadata": {}
  },
  {
   "cell_type": "code",
   "execution_count": 6,
   "metadata": {},
   "outputs": [
    {
     "output_type": "execute_result",
     "data": {
      "text/plain": [
       "array([186, 175, 230, ..., 237, 225, 258], dtype=int64)"
      ]
     },
     "metadata": {},
     "execution_count": 6
    }
   ],
   "source": [
    "labels = np.array(target)\n",
    "labels"
   ]
  },
  {
   "cell_type": "code",
   "execution_count": 7,
   "metadata": {},
   "outputs": [
    {
     "output_type": "stream",
     "name": "stdout",
     "text": [
      "['ENGINE_SIZE', 'CYLINDERS', 'COMB_MPG']\n"
     ]
    }
   ],
   "source": [
    "# Saving feature names for later use\n",
    "feature_list = list(features.columns)\n",
    "print(feature_list)"
   ]
  },
  {
   "cell_type": "code",
   "execution_count": 8,
   "metadata": {},
   "outputs": [],
   "source": [
    "# Convert to numpy array\n",
    "features = np.array(features)"
   ]
  },
  {
   "cell_type": "code",
   "execution_count": 9,
   "metadata": {},
   "outputs": [
    {
     "output_type": "stream",
     "name": "stdout",
     "text": [
      "Training Features Shape: (10757, 3)\nTraining Labels Shape: (10757,)\nTesting Features Shape: (3586, 3)\nTesting Labels Shape: (3586,)\n"
     ]
    }
   ],
   "source": [
    "# Split the data into training and testing sets\n",
    "train_features, test_features, train_labels, test_labels = train_test_split(features, labels, test_size = 0.25, random_state = 42)\n",
    "print('Training Features Shape:', train_features.shape)\n",
    "print('Training Labels Shape:', train_labels.shape)\n",
    "print('Testing Features Shape:', test_features.shape)\n",
    "print('Testing Labels Shape:', test_labels.shape)"
   ]
  },
  {
   "source": [
    "### Create a baseline model that we can evaluate against.\n",
    "\n",
    "Might have to use the model from before. Mean absolute error of OLS model from before is ***14.95***, this is the target to beat.\n"
   ],
   "cell_type": "markdown",
   "metadata": {}
  },
  {
   "source": [
    "## Now we can apply the model. \n",
    "\n"
   ],
   "cell_type": "markdown",
   "metadata": {}
  },
  {
   "cell_type": "code",
   "execution_count": 10,
   "metadata": {},
   "outputs": [],
   "source": [
    "# import model\n",
    "from sklearn.ensemble import RandomForestRegressor\n"
   ]
  },
  {
   "cell_type": "code",
   "execution_count": 11,
   "metadata": {},
   "outputs": [
    {
     "output_type": "execute_result",
     "data": {
      "text/plain": [
       "RandomForestRegressor(n_estimators=1000, random_state=42)"
      ]
     },
     "metadata": {},
     "execution_count": 11
    }
   ],
   "source": [
    "# Instantiate model with 1000 decision trees\n",
    "rf = RandomForestRegressor(n_estimators = 1000, random_state = 42)\n",
    "# Train the model on training data\n",
    "rf.fit(train_features, train_labels)"
   ]
  },
  {
   "cell_type": "code",
   "execution_count": 12,
   "metadata": {},
   "outputs": [
    {
     "output_type": "execute_result",
     "data": {
      "text/plain": [
       "array([241.08152022, 190.76135925, 223.72521971, ..., 148.07984455,\n",
       "       237.67081232, 293.00190189])"
      ]
     },
     "metadata": {},
     "execution_count": 12
    }
   ],
   "source": [
    "# Use the forest's predict method on the test data\n",
    "predictions = rf.predict(test_features)\n",
    "predictions"
   ]
  },
  {
   "cell_type": "code",
   "execution_count": 16,
   "metadata": {},
   "outputs": [
    {
     "output_type": "execute_result",
     "data": {
      "text/plain": [
       "4.114111678128973"
      ]
     },
     "metadata": {},
     "execution_count": 16
    }
   ],
   "source": [
    "# Calculate the mean absolute errors. \n",
    "mae = skm.mean_absolute_error(test_labels, predictions)\n",
    "mae"
   ]
  },
  {
   "cell_type": "code",
   "execution_count": 17,
   "metadata": {},
   "outputs": [
    {
     "output_type": "execute_result",
     "data": {
      "text/plain": [
       "102.57075828871535"
      ]
     },
     "metadata": {},
     "execution_count": 17
    }
   ],
   "source": [
    "mse = skm.mean_squared_error(test_labels, predictions)\n",
    "mse"
   ]
  },
  {
   "source": [
    "## A much lower MAE/MSE! \n",
    "\n",
    "This means the random forest model is much better. "
   ],
   "cell_type": "markdown",
   "metadata": {}
  },
  {
   "source": [
    "## Visualise the trees\n"
   ],
   "cell_type": "markdown",
   "metadata": {}
  },
  {
   "cell_type": "code",
   "execution_count": 14,
   "metadata": {},
   "outputs": [],
   "source": [
    "# Import tools needed for visualization\n",
    "from sklearn.tree import export_graphviz\n",
    "import pydot"
   ]
  },
  {
   "cell_type": "code",
   "execution_count": 15,
   "metadata": {},
   "outputs": [],
   "source": [
    "# Pull out one tree from the forest\n",
    "tree = rf.estimators_[5]\n",
    "# Export the image to a dot file\n",
    "export_graphviz(tree, out_file = 'tree.dot', feature_names = feature_list, rounded = True, precision = 1)\n",
    "# Use dot file to create a graph\n",
    "(graph, ) = pydot.graph_from_dot_file('tree.dot')\n"
   ]
  },
  {
   "cell_type": "code",
   "execution_count": null,
   "metadata": {},
   "outputs": [],
   "source": []
  }
 ]
}