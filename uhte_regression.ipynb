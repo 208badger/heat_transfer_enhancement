version https://git-lfs.github.com/spec/v1
oid sha256:3578c14371445af399ee338a5a01741815cd17604cb2b839327338306cbff418
size 95981
