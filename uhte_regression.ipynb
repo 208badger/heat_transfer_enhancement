version https://git-lfs.github.com/spec/v1
oid sha256:9e264bd4c67e0aac87eca5c83aae82efac14e5de37261e24425053ac9ba2b90b
size 97480
