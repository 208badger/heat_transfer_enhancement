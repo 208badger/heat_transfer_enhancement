version https://git-lfs.github.com/spec/v1
oid sha256:72944765aa78f9c32ac221369b5ce7c8678e0efe14c8a90fe64275fc305ec2ae
size 186049
