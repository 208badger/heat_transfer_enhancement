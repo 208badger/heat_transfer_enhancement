version https://git-lfs.github.com/spec/v1
oid sha256:8bd54fdcb61eb4d6e8d44baa9985ab126321c7682a1adf09705a0d7f85ab32a7
size 14417
