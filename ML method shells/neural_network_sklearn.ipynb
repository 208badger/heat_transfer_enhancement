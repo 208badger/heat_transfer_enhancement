{
 "metadata": {
  "language_info": {
   "codemirror_mode": {
    "name": "ipython",
    "version": 3
   },
   "file_extension": ".py",
   "mimetype": "text/x-python",
   "name": "python",
   "nbconvert_exporter": "python",
   "pygments_lexer": "ipython3",
   "version": "3.7.8-final"
  },
  "orig_nbformat": 2,
  "kernelspec": {
   "name": "python3",
   "display_name": "Python 3.7.8 64-bit",
   "metadata": {
    "interpreter": {
     "hash": "9a0278f75cc3dad5b32104ea2a7e05995455e08fbc95f238b6891c27485b8dc2"
    }
   }
  }
 },
 "nbformat": 4,
 "nbformat_minor": 2,
 "cells": [
  {
   "source": [
    "# Neural networks\n",
    "\n",
    "Aiming to create a NN model on same carbon emissions data. The preprocessing steps will be the same. \n",
    "\n",
    "Taken from [this](https://machinelearningmastery.com/regression-tutorial-keras-deep-learning-library-python/) article."
   ],
   "cell_type": "markdown",
   "metadata": {}
  },
  {
   "cell_type": "code",
   "execution_count": 5,
   "metadata": {},
   "outputs": [],
   "source": [
    "import pandas as pd\n",
    "from keras.models import Sequential\n",
    "from keras.layers import Dense\n",
    "from keras.wrappers.scikit_learn import KerasRegressor\n",
    "from sklearn.model_selection import cross_val_score\n",
    "from sklearn.model_selection import KFold\n",
    "from sklearn.preprocessing import StandardScaler\n",
    "from sklearn.pipeline import Pipeline"
   ]
  },
  {
   "cell_type": "code",
   "execution_count": 6,
   "metadata": {},
   "outputs": [
    {
     "output_type": "execute_result",
     "data": {
      "text/plain": [
       "   ENGINE_SIZE  CYLINDERS  COMB_MPG\n",
       "0          1.6          4        35\n",
       "1          1.6          4        37\n",
       "2          3.2          6        28\n",
       "3          3.5          6        25\n",
       "4          1.8          4        33"
      ],
      "text/html": "<div>\n<style scoped>\n    .dataframe tbody tr th:only-of-type {\n        vertical-align: middle;\n    }\n\n    .dataframe tbody tr th {\n        vertical-align: top;\n    }\n\n    .dataframe thead th {\n        text-align: right;\n    }\n</style>\n<table border=\"1\" class=\"dataframe\">\n  <thead>\n    <tr style=\"text-align: right;\">\n      <th></th>\n      <th>ENGINE_SIZE</th>\n      <th>CYLINDERS</th>\n      <th>COMB_MPG</th>\n    </tr>\n  </thead>\n  <tbody>\n    <tr>\n      <th>0</th>\n      <td>1.6</td>\n      <td>4</td>\n      <td>35</td>\n    </tr>\n    <tr>\n      <th>1</th>\n      <td>1.6</td>\n      <td>4</td>\n      <td>37</td>\n    </tr>\n    <tr>\n      <th>2</th>\n      <td>3.2</td>\n      <td>6</td>\n      <td>28</td>\n    </tr>\n    <tr>\n      <th>3</th>\n      <td>3.5</td>\n      <td>6</td>\n      <td>25</td>\n    </tr>\n    <tr>\n      <th>4</th>\n      <td>1.8</td>\n      <td>4</td>\n      <td>33</td>\n    </tr>\n  </tbody>\n</table>\n</div>"
     },
     "metadata": {},
     "execution_count": 6
    }
   ],
   "source": [
    "# Load the data and preprocess\n",
    "\n",
    "# Import the same data as before\n",
    "data = \"https://raw.githubusercontent.com/Blackman9t/Machine_Learning/master/Original_2000_2014_Fuel_Consumption_Ratings.csv\"\n",
    "missing_data = [\"n/a\",\"na\",\"--\",\"?\",\"non\",\"Non\",\"None\"]\n",
    "\n",
    "df = pd.read_csv(data, na_values=missing_data)\n",
    "\n",
    "df.rename(columns={'FUEL_CONSUMPTION_CITY(L/100km)':'FUEL_CONS_CITY', \n",
    "                        'ENGINE_SIZE(L)':'ENGINE_SIZE',\n",
    "                       'HWY_(L/100km)':'HWY_L100km',\n",
    "                       'COMB_(L/100km)':'COMB_L100km',\n",
    "                       'COMB_(mpg)':'COMB_MPG',\n",
    "                       'CO2_EMISSIONS(g/km)':'CO2_EMISSIONS'},\n",
    "                       inplace=True)\n",
    "target = df[\"CO2_EMISSIONS\"]\n",
    "\n",
    "# Drop the columns that aren't strongly correlated with the target. We know which are highly correlated and which are colinear from previous work so we can drop those. \n",
    "\n",
    "df = df[['ENGINE_SIZE','CYLINDERS','COMB_MPG']]\n",
    "\n",
    "df.head()"
   ]
  },
  {
   "cell_type": "code",
   "execution_count": null,
   "metadata": {},
   "outputs": [],
   "source": []
  }
 ]
}