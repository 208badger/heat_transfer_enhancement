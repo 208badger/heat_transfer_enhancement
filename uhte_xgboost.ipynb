version https://git-lfs.github.com/spec/v1
oid sha256:a12bd8c3982955bcb3a90c0ac6d39398415e2eb3023aaaee9ed3c87e4b48cdf6
size 147467
