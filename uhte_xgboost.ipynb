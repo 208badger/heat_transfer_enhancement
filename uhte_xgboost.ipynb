version https://git-lfs.github.com/spec/v1
oid sha256:c5d67bcdd96bf237c0abb6cfc1f563eb2466f617f073025ec691561700669321
size 123904
