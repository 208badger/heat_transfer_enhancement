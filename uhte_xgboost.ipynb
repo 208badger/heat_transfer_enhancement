version https://git-lfs.github.com/spec/v1
oid sha256:90b74f61b9654b7f005947cbc21bdf99880ca85fd899b602dae6d1fbcb204a53
size 123920
