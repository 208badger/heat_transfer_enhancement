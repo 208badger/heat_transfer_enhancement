version https://git-lfs.github.com/spec/v1
oid sha256:23eaf41416730488783621b178d20378b46106c2c97f174c16ec093bf3456d50
size 463633
