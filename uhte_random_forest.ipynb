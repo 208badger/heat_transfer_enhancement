version https://git-lfs.github.com/spec/v1
oid sha256:d90a03827f29aa604b5bfaa71432a396aaa15f861edecd3375b254314dd139bd
size 87648
