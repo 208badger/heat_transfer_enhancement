version https://git-lfs.github.com/spec/v1
oid sha256:37b796b76e064a0f8773a790866ef4aeb9fc7188ec4dc9a117e174248c345f58
size 443837
