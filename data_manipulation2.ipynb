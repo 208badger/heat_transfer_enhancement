version https://git-lfs.github.com/spec/v1
oid sha256:d29145957745009ccbbec15202964139188af4ec3a5fedd585062038eb4bafc6
size 24778
