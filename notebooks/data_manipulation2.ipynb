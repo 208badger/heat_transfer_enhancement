version https://git-lfs.github.com/spec/v1
oid sha256:022529d4de2123898602a862c532bc51b7800a894bbde02f5994b19b2c845302
size 24284
