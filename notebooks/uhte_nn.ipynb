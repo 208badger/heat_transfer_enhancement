version https://git-lfs.github.com/spec/v1
oid sha256:dadb6ce64fe9f5a09201018199ac065277d111c4009ee277ca767c4335831158
size 195397
