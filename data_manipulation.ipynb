{
 "metadata": {
  "language_info": {
   "codemirror_mode": {
    "name": "ipython",
    "version": 3
   },
   "file_extension": ".py",
   "mimetype": "text/x-python",
   "name": "python",
   "nbconvert_exporter": "python",
   "pygments_lexer": "ipython3",
   "version": "3.7.8-final"
  },
  "orig_nbformat": 2,
  "kernelspec": {
   "name": "python3",
   "display_name": "Python 3.7.8 64-bit",
   "metadata": {
    "interpreter": {
     "hash": "9a0278f75cc3dad5b32104ea2a7e05995455e08fbc95f238b6891c27485b8dc2"
    }
   }
  }
 },
 "nbformat": 4,
 "nbformat_minor": 2,
 "cells": [
  {
   "cell_type": "code",
   "execution_count": 47,
   "metadata": {},
   "outputs": [],
   "source": [
    "import pandas as pd \n",
    "import numpy as np \n",
    "import matplotlib.pyplot as plt\n",
    "from scipy.interpolate import InterpolatedUnivariateSpline\n"
   ]
  },
  {
   "cell_type": "code",
   "execution_count": 43,
   "metadata": {},
   "outputs": [],
   "source": [
    "# Going to have to define some sort of way of finding the engine speed from the title of the file. #\n",
    "# For now I will get the rest of the calculation process going\n",
    "rpm = 2700"
   ]
  },
  {
   "cell_type": "code",
   "execution_count": 61,
   "metadata": {},
   "outputs": [],
   "source": [
    "# Import the data\n",
    "data = pd.read_csv(\"./data/test_export_001.csv\")\n"
   ]
  },
  {
   "cell_type": "code",
   "execution_count": 63,
   "metadata": {},
   "outputs": [
    {
     "output_type": "execute_result",
     "data": {
      "text/plain": [
       "   crank_angle  total_pressure  mass_flow_rate  velocity  total_temp  UHTE  \\\n",
       "0        -94.0        1.649667        0.004789  7.050822   599.34485   1.0   \n",
       "1        -93.0        1.648886        0.004705  6.928965   599.30475   1.0   \n",
       "2        -92.0        1.648119        0.004622  6.809809   599.26540   1.0   \n",
       "3        -91.0        1.647363        0.004541  6.693581   599.22644   1.0   \n",
       "4        -90.0        1.646615        0.004462  6.579988   599.18774   1.0   \n",
       "\n",
       "   dynamic_viscosity  kinematic_viscosity  \n",
       "0           0.000029              0.00003  \n",
       "1           0.000029              0.00003  \n",
       "2           0.000029              0.00003  \n",
       "3           0.000029              0.00003  \n",
       "4           0.000029              0.00003  "
      ],
      "text/html": "<div>\n<style scoped>\n    .dataframe tbody tr th:only-of-type {\n        vertical-align: middle;\n    }\n\n    .dataframe tbody tr th {\n        vertical-align: top;\n    }\n\n    .dataframe thead th {\n        text-align: right;\n    }\n</style>\n<table border=\"1\" class=\"dataframe\">\n  <thead>\n    <tr style=\"text-align: right;\">\n      <th></th>\n      <th>crank_angle</th>\n      <th>total_pressure</th>\n      <th>mass_flow_rate</th>\n      <th>velocity</th>\n      <th>total_temp</th>\n      <th>UHTE</th>\n      <th>dynamic_viscosity</th>\n      <th>kinematic_viscosity</th>\n    </tr>\n  </thead>\n  <tbody>\n    <tr>\n      <th>0</th>\n      <td>-94.0</td>\n      <td>1.649667</td>\n      <td>0.004789</td>\n      <td>7.050822</td>\n      <td>599.34485</td>\n      <td>1.0</td>\n      <td>0.000029</td>\n      <td>0.00003</td>\n    </tr>\n    <tr>\n      <th>1</th>\n      <td>-93.0</td>\n      <td>1.648886</td>\n      <td>0.004705</td>\n      <td>6.928965</td>\n      <td>599.30475</td>\n      <td>1.0</td>\n      <td>0.000029</td>\n      <td>0.00003</td>\n    </tr>\n    <tr>\n      <th>2</th>\n      <td>-92.0</td>\n      <td>1.648119</td>\n      <td>0.004622</td>\n      <td>6.809809</td>\n      <td>599.26540</td>\n      <td>1.0</td>\n      <td>0.000029</td>\n      <td>0.00003</td>\n    </tr>\n    <tr>\n      <th>3</th>\n      <td>-91.0</td>\n      <td>1.647363</td>\n      <td>0.004541</td>\n      <td>6.693581</td>\n      <td>599.22644</td>\n      <td>1.0</td>\n      <td>0.000029</td>\n      <td>0.00003</td>\n    </tr>\n    <tr>\n      <th>4</th>\n      <td>-90.0</td>\n      <td>1.646615</td>\n      <td>0.004462</td>\n      <td>6.579988</td>\n      <td>599.18774</td>\n      <td>1.0</td>\n      <td>0.000029</td>\n      <td>0.00003</td>\n    </tr>\n  </tbody>\n</table>\n</div>"
     },
     "metadata": {},
     "execution_count": 63
    }
   ],
   "source": [
    "# rename the columns into something much more comprehensible. \n",
    "data.rename(columns={\n",
    "    \"Angle01\" : \"crank_angle\",\n",
    "    \"ptot:exhrunner-1:050\":\"total_pressure\",\n",
    "    \"MASSFLW:exhrunner-1:050\":\"mass_flow_rate\",\n",
    "    \"VEL:exhrunner-1:050\":\"velocity\",\n",
    "    \"TTOT:exhrunner-1:050\":\"total_temp\",\n",
    "    \"HG2:exhrunner-1:050\":\"UHTE\",\n",
    "    \"dynvis:exhrunner-1:050\":\"dynamic_viscosity\",\n",
    "    \"kinvis:exhrunner-1:050\":\"kinematic_viscosity\"\n",
    "}, inplace = True) \n",
    "data.head()\n"
   ]
  },
  {
   "cell_type": "code",
   "execution_count": 57,
   "metadata": {},
   "outputs": [
    {
     "output_type": "stream",
     "name": "stdout",
     "text": [
      "First value  -94.0\n"
     ]
    },
    {
     "output_type": "execute_result",
     "data": {
      "text/plain": [
       "   crank_angle  total_pressure  mass_flow_rate  velocity  total_temp  UHTE  \\\n",
       "0          0.0        1.649667        0.004789  7.050822   599.34485   1.0   \n",
       "1          1.0        1.648886        0.004705  6.928965   599.30475   1.0   \n",
       "2          2.0        1.648119        0.004622  6.809809   599.26540   1.0   \n",
       "3          3.0        1.647363        0.004541  6.693581   599.22644   1.0   \n",
       "4          4.0        1.646615        0.004462  6.579988   599.18774   1.0   \n",
       "\n",
       "   dynamic_viscosity  kinematic_viscosity      time  \n",
       "0           0.000029              0.00003  0.000000  \n",
       "1           0.000029              0.00003  0.000062  \n",
       "2           0.000029              0.00003  0.000123  \n",
       "3           0.000029              0.00003  0.000185  \n",
       "4           0.000029              0.00003  0.000247  "
      ],
      "text/html": "<div>\n<style scoped>\n    .dataframe tbody tr th:only-of-type {\n        vertical-align: middle;\n    }\n\n    .dataframe tbody tr th {\n        vertical-align: top;\n    }\n\n    .dataframe thead th {\n        text-align: right;\n    }\n</style>\n<table border=\"1\" class=\"dataframe\">\n  <thead>\n    <tr style=\"text-align: right;\">\n      <th></th>\n      <th>crank_angle</th>\n      <th>total_pressure</th>\n      <th>mass_flow_rate</th>\n      <th>velocity</th>\n      <th>total_temp</th>\n      <th>UHTE</th>\n      <th>dynamic_viscosity</th>\n      <th>kinematic_viscosity</th>\n      <th>time</th>\n    </tr>\n  </thead>\n  <tbody>\n    <tr>\n      <th>0</th>\n      <td>0.0</td>\n      <td>1.649667</td>\n      <td>0.004789</td>\n      <td>7.050822</td>\n      <td>599.34485</td>\n      <td>1.0</td>\n      <td>0.000029</td>\n      <td>0.00003</td>\n      <td>0.000000</td>\n    </tr>\n    <tr>\n      <th>1</th>\n      <td>1.0</td>\n      <td>1.648886</td>\n      <td>0.004705</td>\n      <td>6.928965</td>\n      <td>599.30475</td>\n      <td>1.0</td>\n      <td>0.000029</td>\n      <td>0.00003</td>\n      <td>0.000062</td>\n    </tr>\n    <tr>\n      <th>2</th>\n      <td>2.0</td>\n      <td>1.648119</td>\n      <td>0.004622</td>\n      <td>6.809809</td>\n      <td>599.26540</td>\n      <td>1.0</td>\n      <td>0.000029</td>\n      <td>0.00003</td>\n      <td>0.000123</td>\n    </tr>\n    <tr>\n      <th>3</th>\n      <td>3.0</td>\n      <td>1.647363</td>\n      <td>0.004541</td>\n      <td>6.693581</td>\n      <td>599.22644</td>\n      <td>1.0</td>\n      <td>0.000029</td>\n      <td>0.00003</td>\n      <td>0.000185</td>\n    </tr>\n    <tr>\n      <th>4</th>\n      <td>4.0</td>\n      <td>1.646615</td>\n      <td>0.004462</td>\n      <td>6.579988</td>\n      <td>599.18774</td>\n      <td>1.0</td>\n      <td>0.000029</td>\n      <td>0.00003</td>\n      <td>0.000247</td>\n    </tr>\n  </tbody>\n</table>\n</div>"
     },
     "metadata": {},
     "execution_count": 57
    }
   ],
   "source": [
    "# Now calculate the acceleration for each. \n",
    "# find negative start point\n",
    "val = data.crank_angle[0]\n",
    "\n",
    "print(\"First value \", val)\n",
    "\n",
    "# Shift the first angle to 0 degrees to then convert to time\n",
    "if val < 0:\n",
    "    data.crank_angle = data.crank_angle.apply(lambda x: x - val)\n",
    "\n",
    "# Now use engine speed to convert crank angle to time\n",
    "rps = rpm/60\n",
    "seconds_per_rev = 1/rps\n",
    "data[\"time\"] = data.crank_angle.apply(lambda x: (x/360)*seconds_per_rev)\n",
    "data.head()"
   ]
  },
  {
   "cell_type": "code",
   "execution_count": 58,
   "metadata": {},
   "outputs": [],
   "source": [
    "# Calculate the gradient of the graph at each point. \n",
    "x = data.time\n",
    "y = data.velocity\n",
    "f2 = InterpolatedUnivariateSpline(x, y)\n",
    "#Get dervative\n",
    "der = []\n",
    "for i in range(len(y)):\n",
    "\n",
    "    h = 1e-4\n",
    "    der.append( ( f2(x[i]+h)-f2(x[i]-h) )/(2*h) )\n",
    "der = np.array(der) "
   ]
  },
  {
   "cell_type": "code",
   "execution_count": 59,
   "metadata": {},
   "outputs": [
    {
     "output_type": "execute_result",
     "data": {
      "text/plain": [
       "   crank_angle  total_pressure  mass_flow_rate  velocity  total_temp  UHTE  \\\n",
       "0        -94.0        1.649667        0.004789  7.050822   599.34485   1.0   \n",
       "1        -93.0        1.648886        0.004705  6.928965   599.30475   1.0   \n",
       "2        -92.0        1.648119        0.004622  6.809809   599.26540   1.0   \n",
       "3        -91.0        1.647363        0.004541  6.693581   599.22644   1.0   \n",
       "4        -90.0        1.646615        0.004462  6.579988   599.18774   1.0   \n",
       "\n",
       "   dynamic_viscosity  kinematic_viscosity      time  acceleration  \n",
       "0           0.000029              0.00003  0.000000  -1991.730154  \n",
       "1           0.000029              0.00003  0.000062  -1950.853793  \n",
       "2           0.000029              0.00003  0.000123  -1906.694683  \n",
       "3           0.000029              0.00003  0.000185  -1863.704850  \n",
       "4           0.000029              0.00003  0.000247  -1826.618879  "
      ],
      "text/html": "<div>\n<style scoped>\n    .dataframe tbody tr th:only-of-type {\n        vertical-align: middle;\n    }\n\n    .dataframe tbody tr th {\n        vertical-align: top;\n    }\n\n    .dataframe thead th {\n        text-align: right;\n    }\n</style>\n<table border=\"1\" class=\"dataframe\">\n  <thead>\n    <tr style=\"text-align: right;\">\n      <th></th>\n      <th>crank_angle</th>\n      <th>total_pressure</th>\n      <th>mass_flow_rate</th>\n      <th>velocity</th>\n      <th>total_temp</th>\n      <th>UHTE</th>\n      <th>dynamic_viscosity</th>\n      <th>kinematic_viscosity</th>\n      <th>time</th>\n      <th>acceleration</th>\n    </tr>\n  </thead>\n  <tbody>\n    <tr>\n      <th>0</th>\n      <td>-94.0</td>\n      <td>1.649667</td>\n      <td>0.004789</td>\n      <td>7.050822</td>\n      <td>599.34485</td>\n      <td>1.0</td>\n      <td>0.000029</td>\n      <td>0.00003</td>\n      <td>0.000000</td>\n      <td>-1991.730154</td>\n    </tr>\n    <tr>\n      <th>1</th>\n      <td>-93.0</td>\n      <td>1.648886</td>\n      <td>0.004705</td>\n      <td>6.928965</td>\n      <td>599.30475</td>\n      <td>1.0</td>\n      <td>0.000029</td>\n      <td>0.00003</td>\n      <td>0.000062</td>\n      <td>-1950.853793</td>\n    </tr>\n    <tr>\n      <th>2</th>\n      <td>-92.0</td>\n      <td>1.648119</td>\n      <td>0.004622</td>\n      <td>6.809809</td>\n      <td>599.26540</td>\n      <td>1.0</td>\n      <td>0.000029</td>\n      <td>0.00003</td>\n      <td>0.000123</td>\n      <td>-1906.694683</td>\n    </tr>\n    <tr>\n      <th>3</th>\n      <td>-91.0</td>\n      <td>1.647363</td>\n      <td>0.004541</td>\n      <td>6.693581</td>\n      <td>599.22644</td>\n      <td>1.0</td>\n      <td>0.000029</td>\n      <td>0.00003</td>\n      <td>0.000185</td>\n      <td>-1863.704850</td>\n    </tr>\n    <tr>\n      <th>4</th>\n      <td>-90.0</td>\n      <td>1.646615</td>\n      <td>0.004462</td>\n      <td>6.579988</td>\n      <td>599.18774</td>\n      <td>1.0</td>\n      <td>0.000029</td>\n      <td>0.00003</td>\n      <td>0.000247</td>\n      <td>-1826.618879</td>\n    </tr>\n  </tbody>\n</table>\n</div>"
     },
     "metadata": {},
     "execution_count": 59
    }
   ],
   "source": [
    "# Add the acceleration to the dataframe\n",
    "data[\"acceleration\"] = der\n",
    "\n",
    "# Now convert the crank angle back\n",
    "if data.crank_angle[0] > -90:\n",
    "    data.crank_angle = data.crank_angle.apply(lambda x: x + val)\n",
    "data.head()"
   ]
  },
  {
   "cell_type": "code",
   "execution_count": 60,
   "metadata": {},
   "outputs": [],
   "source": [
    "def accel_calc(df, rpm):\n",
    "    # Now calculate the acceleration for each. \n",
    "    # find negative start point\n",
    "    val = data.crank_angle[0]\n",
    "\n",
    "    print(\"First value \", val)\n",
    "\n",
    "    # Shift the first angle to 0 degrees to then convert to time\n",
    "    if val < 0:\n",
    "        data.crank_angle = data.crank_angle.apply(lambda x: x - val)\n",
    "\n",
    "    # Now use engine speed to convert crank angle to time\n",
    "    rps = rpm/60\n",
    "    seconds_per_rev = 1/rps\n",
    "    data[\"time\"] = data.crank_angle.apply(lambda x: (x/360)*seconds_per_rev)\n",
    "\n",
    "    # Calculate the gradient of the graph at each point. \n",
    "    x = data.time\n",
    "    y = data.velocity\n",
    "    f2 = InterpolatedUnivariateSpline(x, y)\n",
    "    #Get dervative\n",
    "    der = []\n",
    "    for i in range(len(y)):\n",
    "\n",
    "        h = 1e-4\n",
    "        der.append( ( f2(x[i]+h)-f2(x[i]-h) )/(2*h) )\n",
    "    der = np.array(der) \n",
    "\n",
    "    # Add the acceleration to the dataframe\n",
    "    data[\"acceleration\"] = der\n",
    "\n",
    "    # Now convert the crank angle back\n",
    "    if data.crank_angle[0] > -90:\n",
    "        data.crank_angle = data.crank_angle.apply(lambda x: x + val)\n",
    "    return data "
   ]
  },
  {
   "cell_type": "code",
   "execution_count": 64,
   "metadata": {},
   "outputs": [
    {
     "output_type": "stream",
     "name": "stdout",
     "text": [
      "First value  -94.0\n"
     ]
    },
    {
     "output_type": "execute_result",
     "data": {
      "text/plain": [
       "     crank_angle  total_pressure  mass_flow_rate  velocity  total_temp  UHTE  \\\n",
       "0      -94.00000        1.649667        0.004789  7.050822   599.34485   1.0   \n",
       "1      -93.00000        1.648886        0.004705  6.928965   599.30475   1.0   \n",
       "2      -92.00000        1.648119        0.004622  6.809809   599.26540   1.0   \n",
       "3      -91.00000        1.647363        0.004541  6.693581   599.22644   1.0   \n",
       "4      -90.00000        1.646615        0.004462  6.579988   599.18774   1.0   \n",
       "..           ...             ...             ...       ...         ...   ...   \n",
       "747    621.99730        1.647710        0.005120  7.549940   599.62024   1.0   \n",
       "748    622.77800        1.647066        0.005051  7.452167   599.58765   1.0   \n",
       "749    623.55570        1.646429        0.004983  7.353909   599.55510   1.0   \n",
       "750    624.31396        1.645813        0.004917  7.258440   599.52356   1.0   \n",
       "751    625.00000        1.645261        0.004857  7.172800   599.49524   1.0   \n",
       "\n",
       "     dynamic_viscosity  kinematic_viscosity      time  acceleration  \n",
       "0             0.000029              0.00003  0.000000  -1991.730154  \n",
       "1             0.000029              0.00003  0.000062  -1950.853793  \n",
       "2             0.000029              0.00003  0.000123  -1906.694683  \n",
       "3             0.000029              0.00003  0.000185  -1863.704850  \n",
       "4             0.000029              0.00003  0.000247  -1826.618879  \n",
       "..                 ...                  ...       ...           ...  \n",
       "747           0.000029              0.00003  0.044197  -2026.493382  \n",
       "748           0.000029              0.00003  0.044246  -2035.247135  \n",
       "749           0.000029              0.00003  0.044294  -2033.265273  \n",
       "750           0.000029              0.00003  0.044340  -2025.631909  \n",
       "751           0.000029              0.00003  0.044383  -2009.658125  \n",
       "\n",
       "[752 rows x 10 columns]"
      ],
      "text/html": "<div>\n<style scoped>\n    .dataframe tbody tr th:only-of-type {\n        vertical-align: middle;\n    }\n\n    .dataframe tbody tr th {\n        vertical-align: top;\n    }\n\n    .dataframe thead th {\n        text-align: right;\n    }\n</style>\n<table border=\"1\" class=\"dataframe\">\n  <thead>\n    <tr style=\"text-align: right;\">\n      <th></th>\n      <th>crank_angle</th>\n      <th>total_pressure</th>\n      <th>mass_flow_rate</th>\n      <th>velocity</th>\n      <th>total_temp</th>\n      <th>UHTE</th>\n      <th>dynamic_viscosity</th>\n      <th>kinematic_viscosity</th>\n      <th>time</th>\n      <th>acceleration</th>\n    </tr>\n  </thead>\n  <tbody>\n    <tr>\n      <th>0</th>\n      <td>-94.00000</td>\n      <td>1.649667</td>\n      <td>0.004789</td>\n      <td>7.050822</td>\n      <td>599.34485</td>\n      <td>1.0</td>\n      <td>0.000029</td>\n      <td>0.00003</td>\n      <td>0.000000</td>\n      <td>-1991.730154</td>\n    </tr>\n    <tr>\n      <th>1</th>\n      <td>-93.00000</td>\n      <td>1.648886</td>\n      <td>0.004705</td>\n      <td>6.928965</td>\n      <td>599.30475</td>\n      <td>1.0</td>\n      <td>0.000029</td>\n      <td>0.00003</td>\n      <td>0.000062</td>\n      <td>-1950.853793</td>\n    </tr>\n    <tr>\n      <th>2</th>\n      <td>-92.00000</td>\n      <td>1.648119</td>\n      <td>0.004622</td>\n      <td>6.809809</td>\n      <td>599.26540</td>\n      <td>1.0</td>\n      <td>0.000029</td>\n      <td>0.00003</td>\n      <td>0.000123</td>\n      <td>-1906.694683</td>\n    </tr>\n    <tr>\n      <th>3</th>\n      <td>-91.00000</td>\n      <td>1.647363</td>\n      <td>0.004541</td>\n      <td>6.693581</td>\n      <td>599.22644</td>\n      <td>1.0</td>\n      <td>0.000029</td>\n      <td>0.00003</td>\n      <td>0.000185</td>\n      <td>-1863.704850</td>\n    </tr>\n    <tr>\n      <th>4</th>\n      <td>-90.00000</td>\n      <td>1.646615</td>\n      <td>0.004462</td>\n      <td>6.579988</td>\n      <td>599.18774</td>\n      <td>1.0</td>\n      <td>0.000029</td>\n      <td>0.00003</td>\n      <td>0.000247</td>\n      <td>-1826.618879</td>\n    </tr>\n    <tr>\n      <th>...</th>\n      <td>...</td>\n      <td>...</td>\n      <td>...</td>\n      <td>...</td>\n      <td>...</td>\n      <td>...</td>\n      <td>...</td>\n      <td>...</td>\n      <td>...</td>\n      <td>...</td>\n    </tr>\n    <tr>\n      <th>747</th>\n      <td>621.99730</td>\n      <td>1.647710</td>\n      <td>0.005120</td>\n      <td>7.549940</td>\n      <td>599.62024</td>\n      <td>1.0</td>\n      <td>0.000029</td>\n      <td>0.00003</td>\n      <td>0.044197</td>\n      <td>-2026.493382</td>\n    </tr>\n    <tr>\n      <th>748</th>\n      <td>622.77800</td>\n      <td>1.647066</td>\n      <td>0.005051</td>\n      <td>7.452167</td>\n      <td>599.58765</td>\n      <td>1.0</td>\n      <td>0.000029</td>\n      <td>0.00003</td>\n      <td>0.044246</td>\n      <td>-2035.247135</td>\n    </tr>\n    <tr>\n      <th>749</th>\n      <td>623.55570</td>\n      <td>1.646429</td>\n      <td>0.004983</td>\n      <td>7.353909</td>\n      <td>599.55510</td>\n      <td>1.0</td>\n      <td>0.000029</td>\n      <td>0.00003</td>\n      <td>0.044294</td>\n      <td>-2033.265273</td>\n    </tr>\n    <tr>\n      <th>750</th>\n      <td>624.31396</td>\n      <td>1.645813</td>\n      <td>0.004917</td>\n      <td>7.258440</td>\n      <td>599.52356</td>\n      <td>1.0</td>\n      <td>0.000029</td>\n      <td>0.00003</td>\n      <td>0.044340</td>\n      <td>-2025.631909</td>\n    </tr>\n    <tr>\n      <th>751</th>\n      <td>625.00000</td>\n      <td>1.645261</td>\n      <td>0.004857</td>\n      <td>7.172800</td>\n      <td>599.49524</td>\n      <td>1.0</td>\n      <td>0.000029</td>\n      <td>0.00003</td>\n      <td>0.044383</td>\n      <td>-2009.658125</td>\n    </tr>\n  </tbody>\n</table>\n<p>752 rows × 10 columns</p>\n</div>"
     },
     "metadata": {},
     "execution_count": 64
    }
   ],
   "source": [
    "accel_calc(data, 2700)"
   ]
  },
  {
   "cell_type": "code",
   "execution_count": null,
   "metadata": {},
   "outputs": [],
   "source": []
  }
 ]
}